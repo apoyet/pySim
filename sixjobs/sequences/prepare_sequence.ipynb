{
 "cells": [
  {
   "cell_type": "code",
   "execution_count": 1,
   "metadata": {},
   "outputs": [],
   "source": [
    "import numpy as np\n",
    "import pandas as pd\n",
    "import json\n",
    "import sys\n",
    "import os\n",
    "from subprocess import call\n",
    "sys.path.append('/afs/cern.ch/user/a/apoyet/public/pySim/python-toolkit/')\n",
    "import parametricSimulations as pySim"
   ]
  },
  {
   "cell_type": "code",
   "execution_count": 10,
   "metadata": {},
   "outputs": [
    {
     "name": "stdout",
     "output_type": "stream",
     "text": [
      "######################################################\n",
      "#           Preparation of the sequence              #\n",
      "######################################################\n"
     ]
    }
   ],
   "source": [
    "print('######################################################')\n",
    "print('#           Preparation of the sequence              #')\n",
    "print('######################################################')\n"
   ]
  },
  {
   "cell_type": "code",
   "execution_count": 3,
   "metadata": {},
   "outputs": [
    {
     "data": {
      "text/plain": [
       "array(['%MASKED_I_MO', '%MASKED_NPART', '%MASKED_NRJ',\n",
       "       '%MASKED_ON_BB_SWITCH', '%MASKED_ON_COLLISION',\n",
       "       '%MASKED_emittance_norm', '%MASKED_mylhcbeam',\n",
       "       '%MASKED_n_insideD1', '%MASKED_on_ho1', '%MASKED_on_ho2',\n",
       "       '%MASKED_on_ho5', '%MASKED_on_ho8', '%MASKED_on_lr1l',\n",
       "       '%MASKED_on_lr1r', '%MASKED_on_lr2l', '%MASKED_on_lr2r',\n",
       "       '%MASKED_on_lr5l', '%MASKED_on_lr5r', '%MASKED_on_lr8l',\n",
       "       '%MASKED_on_lr8r', '%MASKED_on_ov5', '%MASKED_on_x1',\n",
       "       '%MASKED_on_x5', '%MASKED_opticsfile', '%MASKED_qprime',\n",
       "       '%MASKED_qprimx0', '%MASKED_qprimy0', '%MASKED_qx0', '%MASKED_qy0',\n",
       "       '%MASKED_sixjobsPath'], dtype='|S22')"
      ]
     },
     "execution_count": 3,
     "metadata": {},
     "output_type": "execute_result"
    }
   ],
   "source": [
    "# folder of study\n",
    "\n",
    "myStudyFolder = '/afs/cern.ch/user/a/apoyet/public/pySim/sixjobs/'\n",
    "\n",
    "# folder containing masked file\n",
    "\n",
    "mySequenceFolder = myStudyFolder+'sequences/'\n",
    "myFile = mySequenceFolder+'sequence_maker_masked.mask'\n",
    "\n",
    "# get the list of masked parameters\n",
    "\n",
    "myMaskedParam = pySim.getMaskedParameterList(myFile, tag='%MASKED_')\n",
    "\n",
    "# print the list of masked parameters\n",
    "\n",
    "myMaskedParam"
   ]
  },
  {
   "cell_type": "code",
   "execution_count": 4,
   "metadata": {},
   "outputs": [],
   "source": [
    "# Define the parameters\n",
    "\n",
    "myParams = {}\n",
    "myParams.update({\n",
    "    # BEAM AND MACHINE PARAMETERS\n",
    "    '%MASKED_I_MO' : 0,              #[A] MO Octupole\n",
    "    '%MASKED_NPART' : 1.15e11,       #[p] per bunch\n",
    "    '%MASKED_NRJ' : 6500,            #[GeV]\n",
    "    '%MASKED_ON_BB_SWITCH' : 1,      # Switch to install BB\n",
    "    '%MASKED_ON_COLLISION' : 1,      # Switch to enable crossing scheme\n",
    "    '%MASKED_emittance_norm' : 2.2,  #[1e-6] nomalised emittance\n",
    "    '%MASKED_mylhcbeam' : 1,         #beam to be tracked (B1!)\n",
    "    '%MASKED_on_ov5' : 0,            # CMS bump (if on, -1.8 [mm])\n",
    "    \n",
    "    # OPTICS\n",
    "    '%MASKED_opticsfile' : \"db5/PROTON/opticsfile.22_ctpps2\",\n",
    "    '%MASKED_on_x1' : 150,\n",
    "    '%MASKED_on_x5' : 150,\n",
    "    '%MASKED_qprime' : 15,\n",
    "    '%MASKED_qprimx0' : 15,\n",
    "    '%MASKED_qprimy0' : 15,\n",
    "    '%MASKED_qx0' : 62.31,\n",
    "    '%MASKED_qy0' : 60.32,  \n",
    "    \n",
    "    # BB ENCOUNTERS\n",
    "    '%MASKED_n_insideD1' : 5,        # nb of encounters in D1, nominal 5\n",
    "    '%MASKED_on_ho1' : 1,\n",
    "    '%MASKED_on_ho2' : 0,\n",
    "    '%MASKED_on_ho5' : 1,\n",
    "    '%MASKED_on_ho8' : 0,\n",
    "    '%MASKED_on_lr1l' : 1,\n",
    "    '%MASKED_on_lr1r' : 1,\n",
    "    '%MASKED_on_lr2l' : 0,\n",
    "    '%MASKED_on_lr2r' : 0,\n",
    "    '%MASKED_on_lr5l' : 1,\n",
    "    '%MASKED_on_lr5r' : 1,\n",
    "    '%MASKED_on_lr8l' : 0,\n",
    "    '%MASKED_on_lr8r' : 0, \n",
    "    \n",
    "    # paths\n",
    "    '%MASKED_sixjobsPath' : '/afs/cern.ch/user/a/apoyet/public/pySim'\n",
    "})"
   ]
  },
  {
   "cell_type": "code",
   "execution_count": 7,
   "metadata": {},
   "outputs": [
    {
     "name": "stdout",
     "output_type": "stream",
     "text": [
      "#====================================================================================#\n",
      "Congrats, you can proceed!!\n",
      "#====================================================================================#\n"
     ]
    }
   ],
   "source": [
    "#====================================================================================#\n",
    "#                                 IMPORTANT CHECK                                    #\n",
    "#====================================================================================#\n",
    "# We want to be sure every paramter is defined\n",
    "\n",
    "if len(myMaskedParam)==len(myParams):\n",
    "    print('#====================================================================================#')\n",
    "    print('Congrats, you can proceed!!')\n",
    "    print('#====================================================================================#')\n",
    "else:\n",
    "    print('#====================================================================================#')\n",
    "    print('WARNING!!!! {} parameter(s) is/are not defined!! Please define everything!'.format(len(myMaskedParam)-len(myParams)))\n",
    "    print('#====================================================================================#')"
   ]
  },
  {
   "cell_type": "code",
   "execution_count": 8,
   "metadata": {},
   "outputs": [],
   "source": [
    "#====================================================================================#\n",
    "#                                 UNMASK THE FILE                                    #\n",
    "#====================================================================================#\n",
    "\n",
    "pySim.unmaskSequenceMaker(myFile, myMaskedParam, myParams, mySequenceFolder)"
   ]
  },
  {
   "cell_type": "code",
   "execution_count": 13,
   "metadata": {},
   "outputs": [
    {
     "data": {
      "text/plain": [
       "0"
      ]
     },
     "execution_count": 13,
     "metadata": {},
     "output_type": "execute_result"
    }
   ],
   "source": [
    "#====================================================================================#\n",
    "#                                     RUN MADX                                       #\n",
    "#====================================================================================#\n",
    "\n",
    "myInput = mySequenceFolder+'sequence_maker.madx'\n",
    "\n",
    "call(['madx',myInput],shell=False)"
   ]
  },
  {
   "cell_type": "code",
   "execution_count": 12,
   "metadata": {},
   "outputs": [
    {
     "name": "stdout",
     "output_type": "stream",
     "text": [
      "/afs/cern.ch/user/a/apoyet/public/pySim/sixjobs/sequences\r\n"
     ]
    }
   ],
   "source": [
    "!pwd"
   ]
  },
  {
   "cell_type": "code",
   "execution_count": null,
   "metadata": {},
   "outputs": [],
   "source": []
  }
 ],
 "metadata": {
  "kernelspec": {
   "display_name": "Python 2",
   "language": "python",
   "name": "python2"
  },
  "language_info": {
   "codemirror_mode": {
    "name": "ipython",
    "version": 2
   },
   "file_extension": ".py",
   "mimetype": "text/x-python",
   "name": "python",
   "nbconvert_exporter": "python",
   "pygments_lexer": "ipython2",
   "version": "2.7.14"
  }
 },
 "nbformat": 4,
 "nbformat_minor": 2
}
