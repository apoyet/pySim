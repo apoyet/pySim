{
 "cells": [
  {
   "cell_type": "code",
   "execution_count": 1,
   "metadata": {},
   "outputs": [],
   "source": [
    "import numpy as np\n",
    "import pandas as pd\n",
    "import json\n",
    "import sys\n",
    "import os\n",
    "from subprocess import call\n",
    "sys.path.append('/afs/cern.ch/user/a/apoyet/public/pySim/python-toolkit/')\n",
    "import parametricSimulations as pySim"
   ]
  },
  {
   "cell_type": "code",
   "execution_count": 39,
   "metadata": {},
   "outputs": [
    {
     "name": "stdout",
     "output_type": "stream",
     "text": [
      "######################################################\n",
      "#               Environment preparation              #\n",
      "######################################################\n"
     ]
    }
   ],
   "source": [
    "print('######################################################')\n",
    "print('#               Environment preparation              #')\n",
    "print('######################################################')\n"
   ]
  },
  {
   "cell_type": "code",
   "execution_count": null,
   "metadata": {},
   "outputs": [],
   "source": [
    "# folder of study\n",
    "\n",
    "myStudyFolder = '/afs/cern.ch/user/a/apoyet/public/pySim/sixjobs/'\n",
    "\n",
    "# folder containing masked file\n",
    "maskName = 'lhc2018_ats_masked.mask'\n",
    "\n",
    "myMaskFolder = myStudyFolder+'mask/'\n",
    "myFile = myMaskFolder+maskName\n",
    "\n",
    "# get the list of masked parameters\n",
    "\n",
    "myMaskedParam = pySim.getMaskedParameterList(myFile, tag='%MASKED_')\n",
    "\n",
    "# Define the scans\n",
    "\n",
    "IW = [10,100,200,300]\n",
    "d = [6,7,8,9]"
   ]
  },
  {
   "cell_type": "code",
   "execution_count": 2,
   "metadata": {},
   "outputs": [
    {
     "name": "stdout",
     "output_type": "stream",
     "text": [
      "######################################################\n",
      "#           Creation of the .mask files              #\n",
      "######################################################\n"
     ]
    }
   ],
   "source": [
    "print('######################################################')\n",
    "print('#           Creation of the .mask files              #')\n",
    "print('######################################################')\n"
   ]
  },
  {
   "cell_type": "code",
   "execution_count": 34,
   "metadata": {},
   "outputs": [],
   "source": [
    "# folder of study\n",
    "\n",
    "myStudyFolder = '/afs/cern.ch/user/a/apoyet/public/pySim/sixjobs/'\n",
    "\n",
    "# folder containing masked file\n",
    "maskName = 'lhc2018_ats_masked.mask'\n",
    "\n",
    "myMaskFolder = myStudyFolder+'mask/'\n",
    "myFile = myMaskFolder+maskName\n",
    "\n",
    "# get the list of masked parameters\n",
    "\n",
    "myMaskedParam = pySim.getMaskedParameterList(myFile, tag='%MASKED_')\n",
    "\n",
    "# Define the scans\n",
    "\n",
    "IW = [10,100,200,300]\n",
    "d = [6,7,8,9]"
   ]
  },
  {
   "cell_type": "code",
   "execution_count": 38,
   "metadata": {},
   "outputs": [],
   "source": [
    "# FILL THE MASK\n",
    "\n",
    "for current in IW:\n",
    "    for distance in d:\n",
    "\n",
    "        # Define the parameters\n",
    "\n",
    "        myParams = {}\n",
    "        myParams.update({\n",
    "            # Sequence Path\n",
    "            '%MASKED_seqPath' : '/afs/cern.ch/user/a/apoyet/public/pySim/sixjobs/sequences/seqB1.seq',\n",
    "\n",
    "            # WIRE R5\n",
    "            '%MASKED_x_wire_r5' : -distance*0.001,\n",
    "            '%MASKED_y_wire_r5' : 0,\n",
    "            '%MASKED_s_wire_r5' : 158.3,\n",
    "            '%MASKED_I_wire_r5' : current,\n",
    "\n",
    "            # WIRE L5\n",
    "            '%MASKED_x_wire_l5' : distance*0.001,\n",
    "            '%MASKED_y_wire_l5' : 0,\n",
    "            '%MASKED_s_wire_l5' : 158.3,\n",
    "            '%MASKED_I_wire_l5' : current,\n",
    "\n",
    "            # WIRE R1\n",
    "            '%MASKED_x_wire_r1' : 0,\n",
    "            '%MASKED_y_wire_r1' : distance*0.001,\n",
    "            '%MASKED_s_wire_r1' : 158.3,\n",
    "            '%MASKED_I_wire_r1' : current,\n",
    "\n",
    "            # WIRE L1\n",
    "            '%MASKED_x_wire_l1' : 0,\n",
    "            '%MASKED_y_wire_l1' : -distance*0.001,\n",
    "            '%MASKED_s_wire_l1' : 158.3,\n",
    "            '%MASKED_I_wire_l1' : current\n",
    "        })\n",
    "        \n",
    "        mySource =  myMaskFolder+maskName\n",
    "        myOutMask = 'lhc2018_ats_'+str(current)+'_'+str(distance)+'.mask'\n",
    "        myOutMask_path = myMaskFolder+myOutMask\n",
    "        #call(['cp',mySource,myOutMask_path],shell=False)\n",
    "        unmaskWires(mySource, myMaskedParam, myParams, myOutMask_path)\n",
    "        "
   ]
  },
  {
   "cell_type": "code",
   "execution_count": 13,
   "metadata": {},
   "outputs": [
    {
     "name": "stdout",
     "output_type": "stream",
     "text": [
      "#====================================================================================#\n",
      "Congrats, you can proceed!!\n",
      "#====================================================================================#\n"
     ]
    }
   ],
   "source": [
    "#====================================================================================#\n",
    "#                                 IMPORTANT CHECK                                    #\n",
    "#====================================================================================#\n",
    "# We want to be sure every paramter is defined\n",
    "\n",
    "if len(myMaskedParam)==len(myParams):\n",
    "    print('#====================================================================================#')\n",
    "    print('Congrats, you can proceed!!')\n",
    "    print('#====================================================================================#')\n",
    "else:\n",
    "    print('#====================================================================================#')\n",
    "    print('WARNING!!!! {} parameter(s) is/are not defined!! Please define everything!'.format(len(myMaskedParam)-len(myParams)))\n",
    "    print('#====================================================================================#')"
   ]
  },
  {
   "cell_type": "code",
   "execution_count": 18,
   "metadata": {},
   "outputs": [],
   "source": [
    "def unmaskSequenceMaker(myFile, myMaskedParam, myParams, myStudyFolder):\n",
    "    searchFile = open(myFile, 'r')\n",
    "    myUnmaskedFile = ''\n",
    "    for line in searchFile:\n",
    "        for param in myMaskedParam:\n",
    "            line = line.replace(param, str(myParams[param]))\n",
    "        myUnmaskedFile = myUnmaskedFile+line\n",
    "    text_file = open(myStudyFolder+'sequence_maker.madx',\"w\")\n",
    "    text_file.write(myUnmaskedFile)\n",
    "    text_file.close()"
   ]
  },
  {
   "cell_type": "code",
   "execution_count": 32,
   "metadata": {},
   "outputs": [
    {
     "data": {
      "text/plain": [
       "0"
      ]
     },
     "execution_count": 32,
     "metadata": {},
     "output_type": "execute_result"
    }
   ],
   "source": [
    "mySource =  myMaskFolder+maskName\n",
    "myOutMask = 'lhc2018_ats_'+str(current)+'_'+str(distance)+'.mask'\n",
    "myOutMask_path = myMaskFolder+myOutMask\n",
    "call(['cp',mySource,myOutMask_path],shell=False)"
   ]
  },
  {
   "cell_type": "code",
   "execution_count": 33,
   "metadata": {},
   "outputs": [
    {
     "data": {
      "text/plain": [
       "'/afs/cern.ch/user/a/apoyet/public/pySim/sixjobs/mask/lhc2018_ats_masked.mask'"
      ]
     },
     "execution_count": 33,
     "metadata": {},
     "output_type": "execute_result"
    }
   ],
   "source": [
    "mySource"
   ]
  },
  {
   "cell_type": "code",
   "execution_count": 36,
   "metadata": {},
   "outputs": [],
   "source": [
    "def unmaskWires(myFile, myMaskedParam, myParams, myOutMask_path):\n",
    "    searchFile = open(myFile, 'r')\n",
    "    myUnmaskedFile = ''\n",
    "    for line in searchFile:\n",
    "        for param in myMaskedParam:\n",
    "            line = line.replace(param, str(myParams[param]))\n",
    "        myUnmaskedFile = myUnmaskedFile+line\n",
    "    text_file = open(myOutMask_path,\"w\")\n",
    "    text_file.write(myUnmaskedFile)\n",
    "    text_file.close()"
   ]
  },
  {
   "cell_type": "code",
   "execution_count": null,
   "metadata": {},
   "outputs": [],
   "source": []
  }
 ],
 "metadata": {
  "kernelspec": {
   "display_name": "Python 2",
   "language": "python",
   "name": "python2"
  },
  "language_info": {
   "codemirror_mode": {
    "name": "ipython",
    "version": 2
   },
   "file_extension": ".py",
   "mimetype": "text/x-python",
   "name": "python",
   "nbconvert_exporter": "python",
   "pygments_lexer": "ipython2",
   "version": "2.7.14"
  }
 },
 "nbformat": 4,
 "nbformat_minor": 2
}
