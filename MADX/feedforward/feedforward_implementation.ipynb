{
 "cells": [
  {
   "cell_type": "code",
   "execution_count": 2,
   "metadata": {},
   "outputs": [],
   "source": [
    "import numpy as np\n",
    "import matplotlib.pyplot as plt\n",
    "get_ipython().magic('matplotlib inline')\n",
    "%config InlineBackend.figure_format = 'retina' # retina display"
   ]
  },
  {
   "cell_type": "markdown",
   "metadata": {},
   "source": [
    "# WIRE R5\n",
    "---"
   ]
  },
  {
   "cell_type": "code",
   "execution_count": 17,
   "metadata": {},
   "outputs": [],
   "source": [
    "I = np.array([10,50,100,150,200,250,300,350,400,450])\n",
    "r = 0.01\n",
    "I_r2 = I/r**2\n",
    "\n",
    "k4_0 = -2.41366e-03\n",
    "k5_0 = 1.22828e-03\n",
    "\n",
    "dk4_10 = -2.41279e-03 - k4_0\n",
    "dk5_10 = 1.22738e-03 - k5_0\n",
    "\n",
    "dk4_50 = -2.40934e-03 - k4_0\n",
    "dk5_50 = 1.22383e-03 - k5_0\n",
    "\n",
    "dk4_100 = -2.40502e-03 - k4_0\n",
    "dk5_100 = 1.21941e-03 - k5_0\n",
    "\n",
    "dk4_150 = -2.40072e-03 - k4_0\n",
    "dk5_150 = 1.21501e-03 - k5_0\n",
    "\n",
    "dk4_200 = -2.39643e-03 - k4_0\n",
    "dk5_200 = 1.21063e-03 - k5_0\n",
    "\n",
    "dk4_250 = -2.39215e-03 - k4_0\n",
    "dk5_250 = 1.20628e-03 - k5_0\n",
    "\n",
    "dk4_300 = -2.38788e-03 - k4_0\n",
    "dk5_300 = 1.20195e-03 - k5_0\n",
    "\n",
    "dk4_350 = -2.38363e-03 - k4_0\n",
    "dk5_350 = 1.19764e-03 - k5_0\n",
    "\n",
    "dk4_400 = -2.37938e-03 - k4_0\n",
    "dk5_400 = 1.19335e-03 - k5_0\n",
    "\n",
    "dk4_450 = -2.37514e-03 - k4_0\n",
    "dk5_450 = 1.18908e-03 - k5_0\n",
    "\n",
    "dk4 = np.array([dk4_10, dk4_50, dk4_100, dk4_150, dk4_200, dk4_250, dk4_300, dk4_350, dk4_400, dk4_450])\n",
    "dk5 = np.array([dk5_10, dk5_50, dk5_100, dk5_150, dk5_200, dk5_250, dk5_300, dk5_350, dk5_400, dk5_450])"
   ]
  },
  {
   "cell_type": "code",
   "execution_count": 33,
   "metadata": {},
   "outputs": [
    {
     "data": {
      "text/plain": [
       "array([-2.18963932e-20,  8.65745070e-12,  2.19512457e-09])"
      ]
     },
     "execution_count": 33,
     "metadata": {},
     "output_type": "execute_result"
    }
   ],
   "source": [
    "np.polyfit(I_r2,dk4,deg=2)"
   ]
  },
  {
   "cell_type": "code",
   "execution_count": 34,
   "metadata": {},
   "outputs": [
    {
     "data": {
      "text/plain": [
       "array([ 4.38048891e-20, -8.90562248e-12, -9.44683895e-09])"
      ]
     },
     "execution_count": 34,
     "metadata": {},
     "output_type": "execute_result"
    }
   ],
   "source": [
    "np.polyfit(I_r2,dk5,deg=2)"
   ]
  },
  {
   "cell_type": "markdown",
   "metadata": {},
   "source": [
    "---\n",
    "# WIRE L5\n",
    "---"
   ]
  },
  {
   "cell_type": "code",
   "execution_count": 35,
   "metadata": {},
   "outputs": [],
   "source": [
    "I = np.array([10,50,100,150,200,250,300,350,400,450])\n",
    "r = 0.01\n",
    "I_r2 = I/r**2\n",
    "\n",
    "k4_0 = 2.41366e-03\n",
    "k5_0 = -1.49222e-03\n",
    "\n",
    "dk4_10 = 2.41455e-03 - k4_0\n",
    "dk5_10 = -1.49316e-03 - k5_0\n",
    "\n",
    "dk4_50 = 2.41816e-03 - k4_0\n",
    "dk5_50 = -1.49695e-03 - k5_0\n",
    "\n",
    "dk4_100 = 2.42269e-03 - k4_0\n",
    "dk5_100 = -1.50173e-03 - k5_0\n",
    "\n",
    "dk4_150 = 2.42724e-03 - k4_0\n",
    "dk5_150 = -1.50655e-03 - k5_0\n",
    "\n",
    "dk4_200 = 2.43181e-03 - k4_0\n",
    "dk5_200 = -1.51141e-03 - k5_0\n",
    "\n",
    "dk4_250 = 2.43642e-03 - k4_0\n",
    "dk5_250 = -1.51631e-03 - k5_0\n",
    "\n",
    "dk4_300 = 2.44104e-03 - k4_0\n",
    "dk5_300 = -1.52125e-03 - k5_0\n",
    "\n",
    "dk4_350 = 2.44569e-03 - k4_0\n",
    "dk5_350 = -1.52623e-03 - k5_0\n",
    "\n",
    "dk4_400 = 2.45037e-03 - k4_0\n",
    "dk5_400 = -1.53125e-03 - k5_0\n",
    "\n",
    "dk4_450 = 2.45508e-03 - k4_0\n",
    "dk5_450 = -1.53632e-03 - k5_0\n",
    "\n",
    "dk4 = np.array([dk4_10, dk4_50, dk4_100, dk4_150, dk4_200, dk4_250, dk4_300, dk4_350, dk4_400, dk4_450])\n",
    "dk5 = np.array([dk5_10, dk5_50, dk5_100, dk5_150, dk5_200, dk5_250, dk5_300, dk5_350, dk5_400, dk5_450])"
   ]
  },
  {
   "cell_type": "code",
   "execution_count": 36,
   "metadata": {},
   "outputs": [
    {
     "data": {
      "text/plain": [
       "array([ 5.02215572e-20,  8.97803604e-12, -3.24025978e-09])"
      ]
     },
     "execution_count": 36,
     "metadata": {},
     "output_type": "execute_result"
    }
   ],
   "source": [
    "np.polyfit(I_r2,dk4,deg=2)"
   ]
  },
  {
   "cell_type": "code",
   "execution_count": 37,
   "metadata": {},
   "outputs": [
    {
     "data": {
      "text/plain": [
       "array([-8.14213238e-20, -9.43406930e-12,  5.20497459e-09])"
      ]
     },
     "execution_count": 37,
     "metadata": {},
     "output_type": "execute_result"
    }
   ],
   "source": [
    "np.polyfit(I_r2,dk5,deg=2)"
   ]
  },
  {
   "cell_type": "code",
   "execution_count": null,
   "metadata": {},
   "outputs": [],
   "source": []
  }
 ],
 "metadata": {
  "kernelspec": {
   "display_name": "Python 2",
   "language": "python",
   "name": "python2"
  },
  "language_info": {
   "codemirror_mode": {
    "name": "ipython",
    "version": 2
   },
   "file_extension": ".py",
   "mimetype": "text/x-python",
   "name": "python",
   "nbconvert_exporter": "python",
   "pygments_lexer": "ipython2",
   "version": "2.7.14"
  }
 },
 "nbformat": 4,
 "nbformat_minor": 2
}
