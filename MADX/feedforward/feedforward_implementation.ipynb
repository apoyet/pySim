{
 "cells": [
  {
   "cell_type": "code",
   "execution_count": 3,
   "metadata": {},
   "outputs": [],
   "source": [
    "import numpy as np\n",
    "import matplotlib.pyplot as plt\n",
    "get_ipython().magic('matplotlib inline')\n",
    "%config InlineBackend.figure_format = 'retina' # retina display"
   ]
  },
  {
   "cell_type": "markdown",
   "metadata": {},
   "source": [
    "# WIRE R5\n",
    "---"
   ]
  },
  {
   "cell_type": "code",
   "execution_count": 4,
   "metadata": {},
   "outputs": [],
   "source": [
    "I = np.array([10,50,100,150,200,250,300,350,400,450])\n",
    "r = 0.01\n",
    "I_r2 = I/r**2\n",
    "\n",
    "k4_0 = -2.41366e-03\n",
    "k5_0 = 1.22828e-03\n",
    "\n",
    "dk4_10 = -2.41279e-03 - k4_0\n",
    "dk5_10 = 1.22738e-03 - k5_0\n",
    "\n",
    "dk4_50 = -2.40934e-03 - k4_0\n",
    "dk5_50 = 1.22383e-03 - k5_0\n",
    "\n",
    "dk4_100 = -2.40502e-03 - k4_0\n",
    "dk5_100 = 1.21941e-03 - k5_0\n",
    "\n",
    "dk4_150 = -2.40072e-03 - k4_0\n",
    "dk5_150 = 1.21501e-03 - k5_0\n",
    "\n",
    "dk4_200 = -2.39643e-03 - k4_0\n",
    "dk5_200 = 1.21063e-03 - k5_0\n",
    "\n",
    "dk4_250 = -2.39215e-03 - k4_0\n",
    "dk5_250 = 1.20628e-03 - k5_0\n",
    "\n",
    "dk4_300 = -2.38788e-03 - k4_0\n",
    "dk5_300 = 1.20195e-03 - k5_0\n",
    "\n",
    "dk4_350 = -2.38363e-03 - k4_0\n",
    "dk5_350 = 1.19764e-03 - k5_0\n",
    "\n",
    "dk4_400 = -2.37938e-03 - k4_0\n",
    "dk5_400 = 1.19335e-03 - k5_0\n",
    "\n",
    "dk4_450 = -2.37514e-03 - k4_0\n",
    "dk5_450 = 1.18908e-03 - k5_0\n",
    "\n",
    "dk4 = np.array([dk4_10, dk4_50, dk4_100, dk4_150, dk4_200, dk4_250, dk4_300, dk4_350, dk4_400, dk4_450])\n",
    "dk5 = np.array([dk5_10, dk5_50, dk5_100, dk5_150, dk5_200, dk5_250, dk5_300, dk5_350, dk5_400, dk5_450])"
   ]
  },
  {
   "cell_type": "code",
   "execution_count": 8,
   "metadata": {},
   "outputs": [
    {
     "data": {
      "text/plain": [
       "array([ 3.52561927e-28, -2.43268741e-20,  8.66179168e-12,  7.79838596e-10])"
      ]
     },
     "execution_count": 8,
     "metadata": {},
     "output_type": "execute_result"
    }
   ],
   "source": [
    "np.polyfit(I_r2,dk4,deg=3)"
   ]
  },
  {
   "cell_type": "code",
   "execution_count": null,
   "metadata": {},
   "outputs": [],
   "source": [
    "dk4 = 7.79838596e-10 + 8.66179168e-12*I_wire_r5.b1/r_wire_r5.b1^2 - 2.43268741e-20*(I_wire_r5.b1/r_wire_r5.b1^2)^2 + 3.52561927e-28*(I_wire_r5.b1/r_wire_r5.b1^2)^3;"
   ]
  },
  {
   "cell_type": "code",
   "execution_count": 9,
   "metadata": {},
   "outputs": [
    {
     "data": {
      "text/plain": [
       "array([-4.72438536e-28,  4.70617718e-20, -8.91143947e-12, -7.55033345e-09])"
      ]
     },
     "execution_count": 9,
     "metadata": {},
     "output_type": "execute_result"
    }
   ],
   "source": [
    "np.polyfit(I_r2,dk5,deg=3)"
   ]
  },
  {
   "cell_type": "code",
   "execution_count": null,
   "metadata": {},
   "outputs": [],
   "source": [
    "dk5 = -7.55033345e-09 - 8.91143947e-12*I_wire_r5.b1/r_wire_r5.b1^2 + 4.70617718e-20*(I_wire_r5.b1/r_wire_r5.b1^2)^2 - 4.72438536e-28*(I_wire_r5.b1/r_wire_r5.b1^2)^3;"
   ]
  },
  {
   "cell_type": "markdown",
   "metadata": {},
   "source": [
    "---\n",
    "# WIRE L5\n",
    "---"
   ]
  },
  {
   "cell_type": "code",
   "execution_count": 10,
   "metadata": {},
   "outputs": [],
   "source": [
    "I = np.array([10,50,100,150,200,250,300,350,400,450])\n",
    "r = 0.01\n",
    "I_r2 = I/r**2\n",
    "\n",
    "k4_0 = 2.41366e-03\n",
    "k5_0 = -1.49222e-03\n",
    "\n",
    "dk4_10 = 2.41455e-03 - k4_0\n",
    "dk5_10 = -1.49316e-03 - k5_0\n",
    "\n",
    "dk4_50 = 2.41816e-03 - k4_0\n",
    "dk5_50 = -1.49695e-03 - k5_0\n",
    "\n",
    "dk4_100 = 2.42269e-03 - k4_0\n",
    "dk5_100 = -1.50173e-03 - k5_0\n",
    "\n",
    "dk4_150 = 2.42724e-03 - k4_0\n",
    "dk5_150 = -1.50655e-03 - k5_0\n",
    "\n",
    "dk4_200 = 2.43181e-03 - k4_0\n",
    "dk5_200 = -1.51141e-03 - k5_0\n",
    "\n",
    "dk4_250 = 2.43642e-03 - k4_0\n",
    "dk5_250 = -1.51631e-03 - k5_0\n",
    "\n",
    "dk4_300 = 2.44104e-03 - k4_0\n",
    "dk5_300 = -1.52125e-03 - k5_0\n",
    "\n",
    "dk4_350 = 2.44569e-03 - k4_0\n",
    "dk5_350 = -1.52623e-03 - k5_0\n",
    "\n",
    "dk4_400 = 2.45037e-03 - k4_0\n",
    "dk5_400 = -1.53125e-03 - k5_0\n",
    "\n",
    "dk4_450 = 2.45508e-03 - k4_0\n",
    "dk5_450 = -1.53632e-03 - k5_0\n",
    "\n",
    "dk4 = np.array([dk4_10, dk4_50, dk4_100, dk4_150, dk4_200, dk4_250, dk4_300, dk4_350, dk4_400, dk4_450])\n",
    "dk5 = np.array([dk5_10, dk5_50, dk5_100, dk5_150, dk5_200, dk5_250, dk5_300, dk5_350, dk5_400, dk5_450])"
   ]
  },
  {
   "cell_type": "code",
   "execution_count": 11,
   "metadata": {},
   "outputs": [
    {
     "data": {
      "text/plain": [
       "array([ 1.54600609e-27,  3.95637465e-20,  8.99707154e-12, -9.44637723e-09])"
      ]
     },
     "execution_count": 11,
     "metadata": {},
     "output_type": "execute_result"
    }
   ],
   "source": [
    "np.polyfit(I_r2,dk4,deg=3)"
   ]
  },
  {
   "cell_type": "code",
   "execution_count": null,
   "metadata": {},
   "outputs": [],
   "source": [
    "dk4 = -9.44637723e-09 + 8.99707154e-12*I_wire_l5.b1/r_wire_l5.b1^2 + 3.95637465e-20*(I_wire_l5.b1/r_wire_l5.b1^2)^2 + 1.54600609e-27*(I_wire_l5.b1/r_wire_l5.b1^2)^3;"
   ]
  },
  {
   "cell_type": "code",
   "execution_count": 13,
   "metadata": {},
   "outputs": [
    {
     "data": {
      "text/plain": [
       "array([-3.46130060e-28, -7.90351827e-20, -9.43833110e-12,  6.59444118e-09])"
      ]
     },
     "execution_count": 13,
     "metadata": {},
     "output_type": "execute_result"
    }
   ],
   "source": [
    "np.polyfit(I_r2,dk5,deg=3)"
   ]
  },
  {
   "cell_type": "code",
   "execution_count": null,
   "metadata": {},
   "outputs": [],
   "source": [
    "dk5 = 6.59444118e-09 - 9.43833110e-12*I_wire_l5.b1/r_wire_l5.b1^2 - 7.90351827e-20*(I_wire_l5.b1/r_wire_l5.b1^2)^2 - 3.46130060e-28*(I_wire_l5.b1/r_wire_l5.b1^2)^3;"
   ]
  },
  {
   "cell_type": "markdown",
   "metadata": {},
   "source": [
    "---\n",
    "# WIRE R1\n",
    "---"
   ]
  },
  {
   "cell_type": "code",
   "execution_count": 4,
   "metadata": {},
   "outputs": [],
   "source": [
    "I = np.array([10,50,100,150,200,250,300,350,400,450])\n",
    "r = 0.01\n",
    "I_r2 = I/r**2\n",
    "\n",
    "k4_0 = -2.41366e-03\n",
    "k5_0 = 1.22828e-03\n",
    "\n",
    "dk4_10 = -2.41455e-03 - k4_0\n",
    "dk5_10 = 1.22920e-03 - k5_0\n",
    "\n",
    "dk4_50 = -2.41811e-03 - k4_0\n",
    "dk5_50 = 1.23293e-03 - k5_0\n",
    "\n",
    "dk4_100 = -2.42257e-03 - k4_0\n",
    "dk5_100 = 1.23760e-03 - k5_0\n",
    "\n",
    "dk4_150 = -2.42704e-03 - k4_0\n",
    "dk5_150 = 1.24231e-03 - k5_0\n",
    "\n",
    "dk4_200 = -2.43153e-03 - k4_0\n",
    "dk5_200 = 1.24703e-03 - k5_0\n",
    "\n",
    "dk4_250 = -2.43602e-03 - k4_0\n",
    "dk5_250 = 1.25179e-03 - k5_0\n",
    "\n",
    "dk4_300 = -2.44053e-03 - k4_0\n",
    "dk5_300 = 1.25657e-03 - k5_0\n",
    "\n",
    "dk4_350 = -2.44505e-03 - k4_0\n",
    "dk5_350 = 1.26138e-03 - k5_0\n",
    "\n",
    "dk4_400 = -2.44959e-03 - k4_0\n",
    "dk5_400 = 1.26622e-03 - k5_0\n",
    "\n",
    "dk4_450 = -2.45414e-03 - k4_0\n",
    "dk5_450 = 1.27109e-03 - k5_0\n",
    "\n",
    "dk4 = np.array([dk4_10, dk4_50, dk4_100, dk4_150, dk4_200, dk4_250, dk4_300, dk4_350, dk4_400, dk4_450])\n",
    "dk5 = np.array([dk5_10, dk5_50, dk5_100, dk5_150, dk5_200, dk5_250, dk5_300, dk5_350, dk5_400, dk5_450])"
   ]
  },
  {
   "cell_type": "code",
   "execution_count": 5,
   "metadata": {},
   "outputs": [
    {
     "data": {
      "text/plain": [
       "array([-8.45114760e-28, -1.96649614e-20, -8.88991568e-12, -2.65998341e-10])"
      ]
     },
     "execution_count": 5,
     "metadata": {},
     "output_type": "execute_result"
    }
   ],
   "source": [
    "np.polyfit(I_r2,dk4,deg=3)"
   ]
  },
  {
   "cell_type": "code",
   "execution_count": 6,
   "metadata": {},
   "outputs": [
    {
     "ename": "NameError",
     "evalue": "name 'I_wire_r5' is not defined",
     "output_type": "error",
     "traceback": [
      "\u001b[0;31m\u001b[0m",
      "\u001b[0;31mNameError\u001b[0mTraceback (most recent call last)",
      "\u001b[0;32m<ipython-input-6-e41b504823c2>\u001b[0m in \u001b[0;36m<module>\u001b[0;34m()\u001b[0m\n\u001b[0;32m----> 1\u001b[0;31m \u001b[0mdk4\u001b[0m \u001b[0;34m=\u001b[0m \u001b[0;36m7.79838596e-10\u001b[0m \u001b[0;34m+\u001b[0m \u001b[0;36m8.66179168e-12\u001b[0m\u001b[0;34m*\u001b[0m\u001b[0mI_wire_r5\u001b[0m\u001b[0;34m.\u001b[0m\u001b[0mb1\u001b[0m\u001b[0;34m/\u001b[0m\u001b[0mr_wire_r5\u001b[0m\u001b[0;34m.\u001b[0m\u001b[0mb1\u001b[0m\u001b[0;34m^\u001b[0m\u001b[0;36m2\u001b[0m \u001b[0;34m-\u001b[0m \u001b[0;36m2.43268741e-20\u001b[0m\u001b[0;34m*\u001b[0m\u001b[0;34m(\u001b[0m\u001b[0mI_wire_r5\u001b[0m\u001b[0;34m.\u001b[0m\u001b[0mb1\u001b[0m\u001b[0;34m/\u001b[0m\u001b[0mr_wire_r5\u001b[0m\u001b[0;34m.\u001b[0m\u001b[0mb1\u001b[0m\u001b[0;34m^\u001b[0m\u001b[0;36m2\u001b[0m\u001b[0;34m)\u001b[0m\u001b[0;34m^\u001b[0m\u001b[0;36m2\u001b[0m \u001b[0;34m+\u001b[0m \u001b[0;36m3.52561927e-28\u001b[0m\u001b[0;34m*\u001b[0m\u001b[0;34m(\u001b[0m\u001b[0mI_wire_r5\u001b[0m\u001b[0;34m.\u001b[0m\u001b[0mb1\u001b[0m\u001b[0;34m/\u001b[0m\u001b[0mr_wire_r5\u001b[0m\u001b[0;34m.\u001b[0m\u001b[0mb1\u001b[0m\u001b[0;34m^\u001b[0m\u001b[0;36m2\u001b[0m\u001b[0;34m)\u001b[0m\u001b[0;34m^\u001b[0m\u001b[0;36m3\u001b[0m\u001b[0;34m;\u001b[0m\u001b[0;34m\u001b[0m\u001b[0m\n\u001b[0m",
      "\u001b[0;31mNameError\u001b[0m: name 'I_wire_r5' is not defined"
     ]
    }
   ],
   "source": [
    "dk4 = -2.65998341e-10 - 8.88991568e-12*I_wire_r1.b1/r_wire_r1.b1^2 - 1.96649614e-20*(I_wire_r1.b1/r_wire_r1.b1^2)^2 - 8.45114760e-28*(I_wire_r1.b1/r_wire_r1.b1^2)^3;"
   ]
  },
  {
   "cell_type": "code",
   "execution_count": 7,
   "metadata": {},
   "outputs": [
    {
     "data": {
      "text/plain": [
       "array([ 1.29847718e-27,  4.52889677e-20,  9.28493511e-12, -7.55037152e-09])"
      ]
     },
     "execution_count": 7,
     "metadata": {},
     "output_type": "execute_result"
    }
   ],
   "source": [
    "np.polyfit(I_r2,dk5,deg=3)"
   ]
  },
  {
   "cell_type": "code",
   "execution_count": null,
   "metadata": {},
   "outputs": [],
   "source": [
    "dk5 = -7.55037152e-09 + 9.28493511e-12*I_wire_r1.b1/r_wire_r1.b1^2 + 4.52889677e-20*(I_wire_r1.b1/r_wire_r1.b1^2)^2 + 1.29847718e-27*(I_wire_r1.b1/r_wire_r1.b1^2)^3;"
   ]
  },
  {
   "cell_type": "markdown",
   "metadata": {},
   "source": [
    "---\n",
    "# WIRE L1\n",
    "---"
   ]
  },
  {
   "cell_type": "code",
   "execution_count": 8,
   "metadata": {},
   "outputs": [],
   "source": [
    "I = np.array([10,50,100,150,200,250,300,350,400,450])\n",
    "r = 0.01\n",
    "I_r2 = I/r**2\n",
    "\n",
    "k4_0 = 2.41366e-03\n",
    "k5_0 = -1.49222e-03\n",
    "\n",
    "dk4_10 = 2.41277e-03 - k4_0\n",
    "dk5_10 = -1.49130e-03 - k5_0\n",
    "\n",
    "dk4_50 = 2.40926e-03 - k4_0\n",
    "dk5_50 = -1.48766e-03 - k5_0\n",
    "\n",
    "dk4_100 = 2.40489e-03 - k4_0\n",
    "dk5_100 = -1.48315e-03 - k5_0\n",
    "\n",
    "dk4_150 = 2.40054e-03 - k4_0\n",
    "dk5_150 = -1.47866e-03 - k5_0\n",
    "\n",
    "dk4_200 = 2.39620e-03 - k4_0\n",
    "dk5_200 = -1.47421e-03 - k5_0\n",
    "\n",
    "dk4_250 = 2.39188e-03 - k4_0\n",
    "dk5_250 = -1.46979e-03 - k5_0\n",
    "\n",
    "dk4_300 = 2.38759e-03 - k4_0\n",
    "dk5_300 = -1.46539e-03 - k5_0\n",
    "\n",
    "dk4_350 = 2.38330e-03 - k4_0\n",
    "dk5_350 = -1.46103e-03 - k5_0\n",
    "\n",
    "dk4_400 = 2.37904e-03 - k4_0\n",
    "dk5_400 = -1.45669e-03 - k5_0\n",
    "\n",
    "dk4_450 = 2.37479e-03 - k4_0\n",
    "dk5_450 = -1.45238e-03 - k5_0\n",
    "\n",
    "dk4 = np.array([dk4_10, dk4_50, dk4_100, dk4_150, dk4_200, dk4_250, dk4_300, dk4_350, dk4_400, dk4_450])\n",
    "dk5 = np.array([dk5_10, dk5_50, dk5_100, dk5_150, dk5_200, dk5_250, dk5_300, dk5_350, dk5_400, dk5_450])"
   ]
  },
  {
   "cell_type": "code",
   "execution_count": 9,
   "metadata": {},
   "outputs": [
    {
     "data": {
      "text/plain": [
       "array([-1.04640821e-28,  3.60883837e-20, -8.79548867e-12, -1.07126941e-08])"
      ]
     },
     "execution_count": 9,
     "metadata": {},
     "output_type": "execute_result"
    }
   ],
   "source": [
    "np.polyfit(I_r2,dk4,deg=3)"
   ]
  },
  {
   "cell_type": "code",
   "execution_count": 11,
   "metadata": {},
   "outputs": [],
   "source": [
    "dk4 = -1.07126941e-08 - 8.79548867e-12*I_wire_l1.b1/r_wire_l1.b1^2 + 3.60883837e-20*(I_wire_l1.b1/r_wire_l1.b1^2)^2 - 1.04640821e-28*(I_wire_l1.b1/r_wire_l1.b1^2)^3;"
   ]
  },
  {
   "cell_type": "code",
   "execution_count": 12,
   "metadata": {},
   "outputs": [
    {
     "data": {
      "text/plain": [
       "array([ 1.17667046e-27, -6.73915860e-20,  9.13091672e-12,  8.57607570e-09])"
      ]
     },
     "execution_count": 12,
     "metadata": {},
     "output_type": "execute_result"
    }
   ],
   "source": [
    "np.polyfit(I_r2,dk5,deg=3)"
   ]
  },
  {
   "cell_type": "code",
   "execution_count": null,
   "metadata": {},
   "outputs": [],
   "source": [
    "dk5 = 8.57607570e-09 + 9.13091672e-12*I_wire_l1.b1/r_wire_l1.b1^2 - 6.73915860e-20*(I_wire_l1.b1/r_wire_l1.b1^2)^2 + 1.17667046e-27*(I_wire_l1.b1/r_wire_l1.b1^2)^3;"
   ]
  },
  {
   "cell_type": "code",
   "execution_count": null,
   "metadata": {},
   "outputs": [],
   "source": []
  }
 ],
 "metadata": {
  "kernelspec": {
   "display_name": "Python 2",
   "language": "python",
   "name": "python2"
  }
 },
 "nbformat": 4,
 "nbformat_minor": 2
}
