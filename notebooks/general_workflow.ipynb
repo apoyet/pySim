{
 "cells": [
  {
   "cell_type": "code",
   "execution_count": 1,
   "metadata": {},
   "outputs": [],
   "source": [
    "import numpy as np\n",
    "import pandas as pd\n",
    "import json\n",
    "import sys\n",
    "import os\n",
    "from subprocess import call\n",
    "sys.path.append('/afs/cern.ch/user/a/apoyet/public/pySim/python-toolkit/')\n",
    "import parametricSimulations as pySim"
   ]
  },
  {
   "cell_type": "markdown",
   "metadata": {},
   "source": [
    "# pySim general workflow\n",
    "---\n",
    "\n",
    "This notebook is a template for the general workflow using the pySim package (under construction). This relies on a pythonic approach, running the bash scripts of codes as MADX, SixTrack and SixDesk in the background. \n",
    "\n",
    "The goal of this notebook is to offer to the user an easy experience to launch trackings studies in the - hopefully - most generic way. \n",
    "\n",
    "Following this notebook step-by-step, you will buid the data structure containing the parameters of your studies, and the paths to the corresponding outputs. \n",
    "\n",
    "---\n",
    "\n",
    "## Prerequisites \n",
    "---\n",
    "\n",
    "The use of pySim and SixDesk in general assumes your study folder to be organized in a given way. Please therefore make you that you are currently in the *sixjobs* folder:"
   ]
  },
  {
   "cell_type": "code",
   "execution_count": 3,
   "metadata": {},
   "outputs": [
    {
     "name": "stdout",
     "output_type": "stream",
     "text": [
      "/afs/cern.ch/user/a/apoyet/public/pySim/notebooks\r\n"
     ]
    }
   ],
   "source": [
    "# check the working folder\n",
    "!pwd\n",
    "# should be /afs/cern.ch/work/#/username/myWorkSpace/myStudy/sixjobs/"
   ]
  },
  {
   "cell_type": "markdown",
   "metadata": {},
   "source": [
    "For more help about the workspace construction, please refer to the *define_workspace* script (under construction)."
   ]
  },
  {
   "cell_type": "code",
   "execution_count": 6,
   "metadata": {},
   "outputs": [],
   "source": [
    "a = os.getcwd()"
   ]
  },
  {
   "cell_type": "code",
   "execution_count": 7,
   "metadata": {},
   "outputs": [
    {
     "data": {
      "text/plain": [
       "'/afs/cern.ch/user/a/apoyet/public/pySim/notebooks'"
      ]
     },
     "execution_count": 7,
     "metadata": {},
     "output_type": "execute_result"
    }
   ],
   "source": [
    "a"
   ]
  },
  {
   "cell_type": "code",
   "execution_count": null,
   "metadata": {},
   "outputs": [],
   "source": []
  }
 ],
 "metadata": {
  "kernelspec": {
   "display_name": "Python 2",
   "language": "python",
   "name": "python2"
  },
  "language_info": {
   "codemirror_mode": {
    "name": "ipython",
    "version": 2
   },
   "file_extension": ".py",
   "mimetype": "text/x-python",
   "name": "python",
   "nbconvert_exporter": "python",
   "pygments_lexer": "ipython2",
   "version": "2.7.14"
  }
 },
 "nbformat": 4,
 "nbformat_minor": 2
}
